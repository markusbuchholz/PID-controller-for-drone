{
 "cells": [
  {
   "cell_type": "markdown",
   "metadata": {},
   "source": [
    "## PID"
   ]
  },
  {
   "cell_type": "code",
   "execution_count": 1,
   "metadata": {
    "collapsed": true
   },
   "outputs": [],
   "source": [
    "##################################################################################\n",
    "# Your goal is to follow the comments and complete the the tasks asked of you.\n",
    "#\n",
    "# Good luck designing your proportional integral and derivative controller!\n",
    "#\n",
    "##################################################################################\n",
    "\n",
    "class PID_Controller:\n",
    "    def __init__(self, kp = 0.0, ki = 0.0, kd = 0.0, max_windup = 20,\n",
    "            start_time = 0, alpha = 1., u_bounds = [float('-inf'), float('inf')]):\n",
    "        \n",
    "        # The PID controller can be initalized with a specific kp value\n",
    "        # ki value, and kd value\n",
    "        self.kp_ = float(kp)\n",
    "        self.ki_ = float(ki)\n",
    "        self.kd_ = float(kd)\n",
    "        \n",
    "        # Set max wind up\n",
    "        self.max_windup_ = float(max_windup)\n",
    "        \n",
    "        # Set alpha for derivative filter smoothing factor\n",
    "        self.alpha = float(alpha) \n",
    "        \n",
    "        # Setting control effort saturation limits\n",
    "        self.umin = u_bounds[0]\n",
    "        self.umax = u_bounds[1]\n",
    "\n",
    "        # Store relevant data\n",
    "        self.last_timestamp_ = 0.0\n",
    "        self.set_point_ = 0.0\n",
    "        self.start_time_ = start_time\n",
    "        self.error_sum_ = 0.0\n",
    "        self.last_error_ = 0.0\n",
    "\n",
    "        # Control effort history\n",
    "        self.u_p = [0]\n",
    "        self.u_i = [0]\n",
    "        self.u_d = [0]\n",
    "\n",
    "    # Add a reset function to clear the class variables\n",
    "    def reset(self):\n",
    "        self.set_point_ = 0.0\n",
    "        self.kp_ = 0.0\n",
    "        self.ki_ = 0.0\n",
    "        self.kd_ = 0.0\n",
    "        self.error_sum_ = 0.0\n",
    "        self.last_timestamp_ = 0.0\n",
    "        self.last_error_ = 0\n",
    "        self.last_last_error_ = 0\n",
    "        self.last_windup_ = 0.0\n",
    "\n",
    "    def setTarget(self, target):\n",
    "        self.set_point_ = float(target)\n",
    "\n",
    "    def setKP(self, kp):\n",
    "        self.kp_ = float(kp)\n",
    "\n",
    "    def setKI(self, ki):\n",
    "        self.ki_ = float(ki)\n",
    "\n",
    "    def setKD(self, kd):\n",
    "        self.kd_ = float(kd)\n",
    "\n",
    "    # Create function to set max_windup_\n",
    "    def setMaxWindup(self, max_windup):\n",
    "        self.max_windup_ = int(max_windup)\n",
    "\n",
    "    def update(self, measured_value, timestamp):\n",
    "        delta_time = timestamp - self.last_timestamp_\n",
    "        if delta_time == 0:\n",
    "            # Delta time is zero\n",
    "            return 0\n",
    "        \n",
    "        # Calculate the error \n",
    "        error = self.set_point_ - measured_value\n",
    "        \n",
    "        # Set the last_timestamp_ \n",
    "        self.last_timestamp_ = timestamp\n",
    "\n",
    "        # Sum the errors\n",
    "        self.error_sum_ += error * delta_time\n",
    "        \n",
    "        # Update the past error\n",
    "        self.last_error_ = error\n",
    "        \n",
    "        # Find delta_error\n",
    "        delta_error = error - self.last_error_\n",
    "        \n",
    "        # Update the past error\n",
    "        self.last_error_ = error\n",
    "        \n",
    "        # Address max windup\n",
    "        ########################################\n",
    "        if self.error_sum_ > self.max_windup_:\n",
    "            self.error_sum_ = self.max_windup_\n",
    "        elif self.error_sum_ < -self.max_windup_:\n",
    "            self.error_sum_ = -self.max_windup_\n",
    "        ########################################\n",
    "        \n",
    "        # Proportional error\n",
    "        p = self.kp_ * error\n",
    "       \n",
    "        # Integral error\n",
    "        i = self.ki_ * self.error_sum_\n",
    "       \n",
    "        # Recalculate the derivative error here incorporating \n",
    "        # derivative smoothing!\n",
    "        ########################################\n",
    "        d = self.kd_ * (self.alpha * delta_error / delta_time + (1 - self.alpha))\n",
    "        ########################################\n",
    "        \n",
    "        # Set the control effort\n",
    "        u = p + i + d\n",
    "        \n",
    "        # Enforce actuator saturation limits\n",
    "        ########################################\n",
    "        if u > self.umax:\n",
    "            u = self.umax\n",
    "        elif u < self.umin:\n",
    "            u = self.umin\n",
    "        ########################################\n",
    "    \n",
    "        # Here we are storing the control effort history for post control\n",
    "        # observations. \n",
    "        self.u_p.append(p)\n",
    "        self.u_i.append(i)\n",
    "        self.u_d.append(d)\n",
    "\n",
    "        return u\n"
   ]
  },
  {
   "cell_type": "code",
   "execution_count": 2,
   "metadata": {
    "collapsed": true
   },
   "outputs": [],
   "source": [
    "import numpy as np\n",
    "import matplotlib.pyplot as plt\n",
    "from pid_controller import PID_Controller\n",
    "\n",
    "##################################################################################\n",
    "## DO NOT MODIFY ANY PORTION OF THIS FILE\n",
    "##################################################################################\n",
    "\n",
    "def ydot(y, t, pid):\n",
    "    ''' Returns the state vector at the next time-step\n",
    "\n",
    "    Parameters:\n",
    "    ----------\n",
    "    y(k) = state vector, a length 2 list\n",
    "      = [altitude, speed]\n",
    "    t = time, (sec)\n",
    "    pid = instance of the PIDController class\n",
    "\n",
    "    Returns\n",
    "    -------\n",
    "    y(k+1) = [y[0], y[1]] = y(k) + ydot*dt\n",
    "    '''\n",
    "\n",
    "    # Model state\n",
    "    y0 = y[0] # altitude, (m)\n",
    "    y1 = y[1] # speed, (m/s)\n",
    "\n",
    "\n",
    "    # Model parameters\n",
    "    g = -9.81 # gravity, m/s/s\n",
    "    m =  1.54 # quadrotor mass, kg\n",
    "    c =  10.0 # electro-mechanical transmission constant\n",
    "\n",
    "    # time step, (sec)\n",
    "    dt = t - pid.last_timestamp_\n",
    "    # Control effort\n",
    "    u = pid.update(y0,t)\n",
    "\n",
    "    ### State derivatives\n",
    "    # if altitude = 0\n",
    "    if (y0 <= 0.):\n",
    "        # if control input, u <= gravity, vehicle stays at rest on the ground\n",
    "        # this prevents quadrotor from \"falling\" through the ground when thrust is\n",
    "        # too small.\n",
    "        if u <= np.absolute(g*m/c):\n",
    "            y0dot = 0.\n",
    "            y1dot = 0.\n",
    "        else:  # else if u > gravity and quadrotor accelerates upwards\n",
    "            y0dot = y1\n",
    "            y1dot = g + c/m*u - 0.75*y1\n",
    "    else: # otherwise quadrotor is already in the air\n",
    "        y0dot = y1\n",
    "        y1dot = g + c/m*u - 0.75*y1\n",
    "\n",
    "    y0 += y0dot*dt\n",
    "    y1 += y1dot*dt\n",
    "    \n",
    "    # Add some noise to altitude readings\n",
    "    sigma = 0.1\n",
    "    y0 = np.random.normal(y0, sigma, 1)\n",
    "    \n",
    "    return [y0, y1]\n"
   ]
  },
  {
   "cell_type": "code",
   "execution_count": 3,
   "metadata": {},
   "outputs": [
    {
     "data": {
      "image/png": "[encoded data removed]",
      "text/plain": [
       "<matplotlib.figure.Figure at 0x18ff2226278>"
      ]
     },
     "metadata": {},
     "output_type": "display_data"
    },
    {
     "data": {
      "image/png": "[encoded data removed]",
      "text/plain": [
       "<matplotlib.figure.Figure at 0x18ff27ca278>"
      ]
     },
     "metadata": {},
     "output_type": "display_data"
    },
    {
     "name": "stdout",
     "output_type": "stream",
     "text": [
      "The rise time is 1.202 seconds\n",
      "The percent overshoot is 46.1%\n",
      "The steady state offset at 30 seconds is 0.904 meters\n"
     ]
    }
   ],
   "source": [
    "import numpy as np\n",
    "import matplotlib.pyplot as plt\n",
    "from pid_controller import PID_Controller\n",
    "from quad1d_eom import ydot\n",
    "\n",
    "##################################################################################\n",
    "##################################################################################\n",
    "# This code is what will be executed and what will produce your results\n",
    "# For this quiz you need to set alpha and umax below to your desired value\n",
    "# Then modify pid_controller.py to build out your PID controller\n",
    "\n",
    "kp = 0.5\n",
    "ki = 0.11\n",
    "kd = 0.2\n",
    "\n",
    "umax = 5.0 # max controller output, (N)\n",
    "\n",
    "alpha = 1.0 # derivative filter smoothing factor\n",
    "\n",
    "#\n",
    "# You are encouraged to change them in order to observe the effects\n",
    "#\n",
    "# How do the results of this controller differ from that of the last one?\n",
    "#\n",
    "##################################################################################\n",
    "##################################################################################\n",
    "\n",
    "# Simulation parameters\n",
    "N = 600 # number of simultion points\n",
    "t0 = 0  # starting time, (sec)\n",
    "tf = 45 # end time, (sec)\n",
    "time = np.linspace(t0, tf, N)\n",
    "dt = time[1] - time[0] # delta t, (sec)\n",
    "\n",
    "##################################################################################\n",
    "# Core simulation code\n",
    "# Inital conditions (i.e., initial state vector)\n",
    "y = [0, 0]\n",
    "   #y[0] = initial altitude, (m)\n",
    "   #y[1] = initial speed, (m/s)\n",
    "\n",
    "# Initialize array to store values\n",
    "soln = np.zeros((len(time),len(y)))\n",
    "\n",
    "# Create instance of PID_Controller class and \n",
    "# initalize and set all the variables\n",
    "pid = PID_Controller(kp = kp, ki = ki, kd = kd, max_windup = 1e6, u_bounds\n",
    "        = [0, umax], alpha = alpha)\n",
    "\n",
    "# Set altitude target\n",
    "r = 10 # meters\n",
    "pid.setTarget(r)\n",
    "\n",
    "# Simulate quadrotor motion\n",
    "j = 0 # dummy counter\n",
    "for t in time:\n",
    "    # Evaluate state at next time point\n",
    "    y = ydot(y,t,pid)\n",
    "    # Store results\n",
    "    soln[j,:] = y\n",
    "    j += 1\n",
    "\n",
    "##################################################################################\n",
    "# Plot results\n",
    "SP = np.ones_like(time)*r # altitude set point\n",
    "fig = plt.figure()\n",
    "ax1 = fig.add_subplot(211)\n",
    "ax1.plot(time, soln[:,0],time,SP,'--')\n",
    "ax1.set_xlabel('Time, (sec)')\n",
    "ax1.set_ylabel('Altitude, (m)')\n",
    "\n",
    "ax2 = fig.add_subplot(212)\n",
    "ax2.plot(time, soln[:,1])\n",
    "ax2.set_xlabel('Time, (sec)')\n",
    "ax2.set_ylabel('Speed, (m/s)')\n",
    "plt.tight_layout()\n",
    "plt.show()\n",
    "\n",
    "fig2 = plt.figure()\n",
    "ax3 = fig2.add_subplot(111)\n",
    "ax3.plot(time, pid.u_p, label='u_p', linewidth=3, color = 'red')\n",
    "ax3.plot(time, pid.u_i, label='u_i', linewidth=3, color = 'blue')\n",
    "ax3.plot(time, pid.u_d, label='u_d', linewidth=3, color = 'green')\n",
    "ax3.set_xlabel('Time, (sec)')\n",
    "ax3.set_ylabel('Control Effort')\n",
    "h, l = ax3.get_legend_handles_labels()\n",
    "ax3.legend(h, l)\n",
    "plt.tight_layout()\n",
    "plt.show()\n",
    "##################\n",
    "y0 = soln[:,0] #altitude\n",
    "rise_time_index =  np.argmax(y0>r)\n",
    "RT = time[rise_time_index]\n",
    "print(\"The rise time is {0:.3f} seconds\".format(RT))\n",
    "\n",
    "OS = (np.max(y0) - r)/r*100\n",
    "if OS < 0:\n",
    "    OS = 0\n",
    "print(\"The percent overshoot is {0:.1f}%\".format(OS))\n",
    "\n",
    "print (\"The steady state offset at 30 seconds is {0:.3f} meters\".format(abs(soln[-1,0]-r)))\n"
   ]
  },
  {
   "cell_type": "code",
   "execution_count": null,
   "metadata": {
    "collapsed": true
   },
   "outputs": [],
   "source": []
  },
  {
   "cell_type": "code",
   "execution_count": null,
   "metadata": {
    "collapsed": true
   },
   "outputs": [],
   "source": []
  },
  {
   "cell_type": "code",
   "execution_count": null,
   "metadata": {
    "collapsed": true
   },
   "outputs": [],
   "source": []
  },
  {
   "cell_type": "code",
   "execution_count": null,
   "metadata": {
    "collapsed": true
   },
   "outputs": [],
   "source": []
  },
  {
   "cell_type": "code",
   "execution_count": null,
   "metadata": {
    "collapsed": true
   },
   "outputs": [],
   "source": []
  },
  {
   "cell_type": "code",
   "execution_count": null,
   "metadata": {
    "collapsed": true
   },
   "outputs": [],
   "source": []
  },
  {
   "cell_type": "code",
   "execution_count": null,
   "metadata": {
    "collapsed": true
   },
   "outputs": [],
   "source": []
  },
  {
   "cell_type": "code",
   "execution_count": null,
   "metadata": {
    "collapsed": true
   },
   "outputs": [],
   "source": []
  },
  {
   "cell_type": "code",
   "execution_count": null,
   "metadata": {
    "collapsed": true
   },
   "outputs": [],
   "source": []
  },
  {
   "cell_type": "code",
   "execution_count": null,
   "metadata": {
    "collapsed": true
   },
   "outputs": [],
   "source": []
  },
  {
   "cell_type": "code",
   "execution_count": null,
   "metadata": {
    "collapsed": true
   },
   "outputs": [],
   "source": []
  },
  {
   "cell_type": "code",
   "execution_count": null,
   "metadata": {
    "collapsed": true
   },
   "outputs": [],
   "source": []
  },
  {
   "cell_type": "code",
   "execution_count": null,
   "metadata": {
    "collapsed": true
   },
   "outputs": [],
   "source": []
  },
  {
   "cell_type": "code",
   "execution_count": null,
   "metadata": {
    "collapsed": true
   },
   "outputs": [],
   "source": []
  },
  {
   "cell_type": "code",
   "execution_count": null,
   "metadata": {
    "collapsed": true
   },
   "outputs": [],
   "source": []
  },
  {
   "cell_type": "code",
   "execution_count": null,
   "metadata": {
    "collapsed": true
   },
   "outputs": [],
   "source": []
  },
  {
   "cell_type": "code",
   "execution_count": null,
   "metadata": {
    "collapsed": true
   },
   "outputs": [],
   "source": []
  },
  {
   "cell_type": "code",
   "execution_count": null,
   "metadata": {
    "collapsed": true
   },
   "outputs": [],
   "source": []
  },
  {
   "cell_type": "code",
   "execution_count": null,
   "metadata": {
    "collapsed": true
   },
   "outputs": [],
   "source": []
  },
  {
   "cell_type": "code",
   "execution_count": null,
   "metadata": {
    "collapsed": true
   },
   "outputs": [],
   "source": []
  },
  {
   "cell_type": "code",
   "execution_count": null,
   "metadata": {
    "collapsed": true
   },
   "outputs": [],
   "source": []
  },
  {
   "cell_type": "code",
   "execution_count": null,
   "metadata": {
    "collapsed": true
   },
   "outputs": [],
   "source": []
  }
 ],
 "metadata": {
  "kernelspec": {
   "display_name": "Python 3",
   "language": "python",
   "name": "python3"
  },
  "language_info": {
   "codemirror_mode": {
    "name": "ipython",
    "version": 3
   },
   "file_extension": ".py",
   "mimetype": "text/x-python",
   "name": "python",
   "nbconvert_exporter": "python",
   "pygments_lexer": "ipython3",
   "version": "3.5.3"
  }
 },
 "nbformat": 4,
 "nbformat_minor": 2
}
